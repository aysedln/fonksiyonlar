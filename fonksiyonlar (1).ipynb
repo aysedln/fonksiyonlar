{
 "cells": [
  {
   "cell_type": "code",
   "execution_count": 1,
   "id": "4c3d13ba-916d-4f94-818e-4f66b154651d",
   "metadata": {},
   "outputs": [
    {
     "name": "stdout",
     "output_type": "stream",
     "text": [
      "Merhaba, Python!\n"
     ]
    }
   ],
   "source": [
    "# \"Merhaba, Python!\" Yazdıran Fonksiyon\n",
    "\n",
    "def merhaba_de():\n",
    "    print('Merhaba, Python!')\n",
    "merhaba_de()"
   ]
  },
  {
   "cell_type": "code",
   "execution_count": 31,
   "id": "b4f49810-e75b-4716-a74b-a6967b5199ac",
   "metadata": {},
   "outputs": [
    {
     "name": "stdout",
     "output_type": "stream",
     "text": [
      "Ayşe Delen\n"
     ]
    }
   ],
   "source": [
    "# İsim ve Soyisim Yazdıran Fonksiyon\n",
    "def ad_soyad(name,surname):\n",
    "    print(f'{name} {surname}')\n",
    "ad_soyad('Ayşe', 'Delen')    \n"
   ]
  },
  {
   "cell_type": "code",
   "execution_count": 67,
   "id": "2590e556-08ce-4930-9054-13596da1458f",
   "metadata": {},
   "outputs": [
    {
     "name": "stdout",
     "output_type": "stream",
     "text": [
      "[15, 25, 35]\n"
     ]
    }
   ],
   "source": [
    "#3. Listeden Tek Sayıları Bulan Fonksiyon\n",
    "sayilar = [10, 15, 20, 25, 30, 35]\n",
    "def tek_sayilari_bul(*sayilar):\n",
    "    tek_sayilar = [sayi for sayi in sayilar if sayi%2 != 0]\n",
    "    return tek_sayilar\n",
    "print(tek_sayilari_bul(*sayilar))   \n",
    "    "
   ]
  },
  {
   "cell_type": "code",
   "execution_count": 7,
   "id": "90e34f9c-b83a-4d44-81cc-6666751faf6f",
   "metadata": {},
   "outputs": [
    {
     "name": "stdout",
     "output_type": "stream",
     "text": [
      "70 ve 10 sayılarının toplamı: 80\n",
      "70 ve 10 sayılarının bölümü: 7.0\n",
      "70 ve 10 sayılarının çarpımı: 700\n",
      "70 ve 10 sayılarının farkı: 60\n",
      "70 ve 10 sayılarının modu: 0\n"
     ]
    }
   ],
   "source": [
    "# Dört işlem yapan fonksiyonlar\n",
    "def islem_sayilari(sayi1, sayi2):\n",
    "    toplam = sayi1 + sayi2\n",
    "    bolme =  sayi1 / sayi2\n",
    "    if sayi1 == 0:\n",
    "        print('Bölen kısım 0 olamaz.')\n",
    "    \n",
    "    carpma = sayi1 * sayi2  \n",
    "    cikarma = sayi1 - sayi2\n",
    "    mod = sayi1 % sayi2 \n",
    "    \n",
    "    return toplam, bolme, carpma, cikarma, mod\n",
    "toplam_sonuc,bolme_sonuc,carpma_sonuc,cikarma_sonuc,mod_sonuc = islem_sayilari(70,10)    \n",
    "print('70 ve 10 sayılarının toplamı:',toplam_sonuc)\n",
    "print('70 ve 10 sayılarının bölümü:',bolme_sonuc)\n",
    "print('70 ve 10 sayılarının çarpımı:',carpma_sonuc)\n",
    "print('70 ve 10 sayılarının farkı:',cikarma_sonuc)\n",
    "print('70 ve 10 sayılarının modu:',mod_sonuc )\n"
   ]
  },
  {
   "cell_type": "code",
   "execution_count": 17,
   "id": "0de7fdea-f141-4292-a50c-4e5eca08edf4",
   "metadata": {},
   "outputs": [
    {
     "name": "stdin",
     "output_type": "stream",
     "text": [
      "Bir metin girin:  Yapay zeka\n",
      "ters, buyuk, kucuk, uzunluk işlemlerinden birini seçin:  buyuk\n"
     ]
    },
    {
     "name": "stdout",
     "output_type": "stream",
     "text": [
      "YAPAY ZEKA\n"
     ]
    }
   ],
   "source": [
    "#Metin Üzerinde Farklı İşlemler Yapan Fonksiyon\n",
    "metin = input('Bir metin girin: ')\n",
    "secim = input('ters, buyuk, kucuk, uzunluk işlemlerinden birini seçin: ')\n",
    "\n",
    "\n",
    "def metin_islemi(metin, islem_tipi):\n",
    "    if islem_tipi == 'ters':\n",
    "        return metin[::-1]\n",
    "    elif islem_tipi == 'buyuk':\n",
    "        return metin.upper()\n",
    "    elif islem_tipi == 'kucuk':\n",
    "        return metin.lower()\n",
    "    elif islem_tipi == 'uzunluk':    \n",
    "        return len(metin)\n",
    "    else:\n",
    "        print('Geçersiz işlem')\n",
    "print(metin_islemi(metin, secim))        "
   ]
  },
  {
   "cell_type": "code",
   "execution_count": 15,
   "id": "b34f7010-97a2-4838-a7ec-d76491e28dda",
   "metadata": {},
   "outputs": [
    {
     "name": "stdout",
     "output_type": "stream",
     "text": [
      "['ATEŞ', 'AYŞE', 'DERIN']\n"
     ]
    }
   ],
   "source": [
    "#6 Birden fazla isim ekleyen fonksiyon\n",
    "isimler = []\n",
    "def isim_ekle(*args):\n",
    "    # İsimleri saklamak için boş bir liste oluşturdum.\n",
    "    isimler = []\n",
    "    \n",
    "    # args ile gelen her ismi büyük harf formatında listeye ekledim.\n",
    "    for isim in args:\n",
    "        isimler.append(isim.upper())\n",
    "    return isimler\n",
    "    \n",
    "isimler_list = isim_ekle(\"Ateş\", \"Ayşe\", \"Derin\")\n",
    "print(isimler_list)   "
   ]
  },
  {
   "cell_type": "code",
   "execution_count": 7,
   "id": "e88502b4-3722-4894-9a4f-3439634fd103",
   "metadata": {},
   "outputs": [
    {
     "name": "stdin",
     "output_type": "stream",
     "text": [
      "Bir metin girin:  Yapay zeka ile kodlama eğitimi\n"
     ]
    },
    {
     "name": "stdout",
     "output_type": "stream",
     "text": [
      "Kelime sayısı: 5\n",
      "Cümle uzun\n"
     ]
    }
   ],
   "source": [
    "# Metindeki kelime sayısını analiz eden fonksiyon\n",
    "metin = input('Bir metin girin: ')\n",
    "def kelime_sayisi(metin):\n",
    "    kelimeler = metin.split()\n",
    "    return len(kelimeler)\n",
    "\n",
    "\n",
    "# 2 kısım\n",
    "def cumle_analiz(metin):\n",
    "    kelime_hesabi = kelime_sayisi(metin)\n",
    "    if kelime_hesabi >= 5:\n",
    "        print('Cümle uzun')\n",
    "    else:\n",
    "        print('Cümle kısa')\n",
    "print('Kelime sayısı:', kelime_sayisi(metin))\n",
    "cumle_analiz(metin)\n",
    "\n"
   ]
  },
  {
   "cell_type": "code",
   "execution_count": 5,
   "id": "a2c0f1c1-f464-4e13-b227-70c6850dde84",
   "metadata": {},
   "outputs": [
    {
     "name": "stdin",
     "output_type": "stream",
     "text": [
      "1'den hangi sayıya kadar toplamak istiyorsunuz?  7\n"
     ]
    },
    {
     "name": "stdout",
     "output_type": "stream",
     "text": [
      "1'den 7'e kadar olan sayıların toplamı: 28\n"
     ]
    }
   ],
   "source": [
    "#8. Recursive Toplam Hesaplayan Fonksiyon Recursive: problemin daha küçük parçalara bölünerek çözülmesi yöntemidir.\n",
    "# recursive (öz yinelemeli fonksiyon) kendilerini tekrar çağıran fonksiyondur.\n",
    "\n",
    "def toplam(n):\n",
    "    # Durdurma koşulu: n == 1 recursive fonksiyonu sonsuza kadar çalışmamalı!!!\n",
    "    if n == 1:\n",
    "        return 1\n",
    "    # Recursive çağrı: n + toplam(n-1)\n",
    "    return n + toplam(n - 1)\n",
    "\n",
    "n = int(input(\"1'den hangi sayıya kadar toplamak istiyorsunuz? \"))\n",
    "print(f\"1'den {n}'e kadar olan sayıların toplamı: {toplam(n)}\")\n"
   ]
  },
  {
   "cell_type": "code",
   "execution_count": null,
   "id": "a5f43ffd-a09b-4056-9c97-c7d9129a12ab",
   "metadata": {},
   "outputs": [],
   "source": []
  }
 ],
 "metadata": {
  "kernelspec": {
   "display_name": "Python [conda env:base] *",
   "language": "python",
   "name": "conda-base-py"
  },
  "language_info": {
   "codemirror_mode": {
    "name": "ipython",
    "version": 3
   },
   "file_extension": ".py",
   "mimetype": "text/x-python",
   "name": "python",
   "nbconvert_exporter": "python",
   "pygments_lexer": "ipython3",
   "version": "3.12.7"
  }
 },
 "nbformat": 4,
 "nbformat_minor": 5
}
